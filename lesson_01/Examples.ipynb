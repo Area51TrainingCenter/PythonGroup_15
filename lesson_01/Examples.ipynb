{
 "cells": [
  {
   "cell_type": "markdown",
   "metadata": {},
   "source": [
    "# Ejemplos de clase #"
   ]
  },
  {
   "cell_type": "markdown",
   "metadata": {},
   "source": [
    "## 1. Números Raros ##"
   ]
  },
  {
   "cell_type": "markdown",
   "metadata": {},
   "source": [
    "Dado un número entero positivo, realizar las siguientes acciones:\n",
    "\n",
    "* Si es impar, imprimir `Raro`\n",
    "* Si es par y está en el rango inclusivo de 2 a 5, imprimir `No es Raro`\n",
    "* Si es par y está en el rango inclusivo de 6 a 20, imprimir `Raro`  \n",
    "* Si es par y es mayor a 20, imprimir `No es Raro`\n"
   ]
  },
  {
   "cell_type": "markdown",
   "metadata": {},
   "source": [
    "### Solución ###"
   ]
  },
  {
   "cell_type": "markdown",
   "metadata": {},
   "source": [
    "Basta con pasar las instrucciones a código."
   ]
  },
  {
   "cell_type": "code",
   "execution_count": null,
   "metadata": {},
   "outputs": [],
   "source": [
    "n = int(input()) # leemos el número y casteamos a entero\n",
    "if n % 2 != 0:\n",
    "    print('Raro')\n",
    "elif n % 2 == 0 and n >= 2 and n <= 5:\n",
    "    print('No es Raro')\n",
    "elif n % 2 == 0 and n >= 6 and n <= 20:\n",
    "    print('Raro')\n",
    "elif n % 2 == 0 and n > 20:\n",
    "    print('No es Raro')"
   ]
  },
  {
   "cell_type": "markdown",
   "metadata": {},
   "source": [
    "Optimizando un poco el código, en python podemos reemplazar `n >= 6 and n <= 20` por `6 <= n <= 20`. Además pensando un poco podemos concluir que el número es *Raro* cuando es impar o cuando es par en el rango inclusivo de 6 a 20, en otro caso *No es Raro*."
   ]
  },
  {
   "cell_type": "code",
   "execution_count": null,
   "metadata": {},
   "outputs": [],
   "source": [
    "n = int(input())\n",
    "if n % 2 != 0 or 6 <= n <= 20:\n",
    "    print('Raro')\n",
    "else:\n",
    "    print('No es Raro')"
   ]
  },
  {
   "cell_type": "markdown",
   "metadata": {},
   "source": [
    "## 2. Cuadrados ##"
   ]
  },
  {
   "cell_type": "markdown",
   "metadata": {},
   "source": [
    "Leer un número entero positivo e imprime todos los números positivos menores a este, elevados al cuadrado."
   ]
  },
  {
   "cell_type": "markdown",
   "metadata": {},
   "source": [
    "### Solución ###"
   ]
  },
  {
   "cell_type": "markdown",
   "metadata": {},
   "source": [
    "Nos basta con un bucle y el operador potencia."
   ]
  },
  {
   "cell_type": "code",
   "execution_count": 6,
   "metadata": {
    "scrolled": true
   },
   "outputs": [
    {
     "name": "stdout",
     "output_type": "stream",
     "text": [
      "10\n",
      "1 4 9 16 25 36 49 64 81 "
     ]
    }
   ],
   "source": [
    "n = int(input())\n",
    "for i in range(1, n):\n",
    "    print(i ** 2, end=' ')"
   ]
  },
  {
   "cell_type": "markdown",
   "metadata": {},
   "source": [
    "## 3. Suma ##"
   ]
  },
  {
   "cell_type": "markdown",
   "metadata": {},
   "source": [
    "Lee un número entero positivo e imprime la suma de todos los números positivos que sean menor o igual a este."
   ]
  },
  {
   "cell_type": "markdown",
   "metadata": {},
   "source": [
    "### Solución ###"
   ]
  },
  {
   "cell_type": "markdown",
   "metadata": {},
   "source": [
    "Podemos usar también un bucle, y debemos acumular el valor de la suma en una variable, que debe ser incializada a cero antes de ingresar al bucle."
   ]
  },
  {
   "cell_type": "code",
   "execution_count": 11,
   "metadata": {},
   "outputs": [
    {
     "name": "stdout",
     "output_type": "stream",
     "text": [
      "100000000\n",
      "5000000050000000\n",
      "10.884313821792603\n"
     ]
    }
   ],
   "source": [
    "import time\n",
    "\n",
    "n = int(input())\n",
    "\n",
    "start = time.time()\n",
    "sum_ = 0\n",
    "for i in range(1, n + 1):\n",
    "    sum_ += i # reemplaza a: sum_ = _sum + i\n",
    "print(sum_)\n",
    "end = time.time()\n",
    "print(end - start)\n"
   ]
  },
  {
   "cell_type": "markdown",
   "metadata": {},
   "source": [
    "Apoyándonos en las matemáticas podemos resolverlo con sólo una instrucción."
   ]
  },
  {
   "cell_type": "code",
   "execution_count": 12,
   "metadata": {},
   "outputs": [
    {
     "name": "stdout",
     "output_type": "stream",
     "text": [
      "10000000000000000000000000000000000000000000\n",
      "50000000000000000000000000000000000000000005000000000000000000000000000000000000000000\n",
      "0.0009992122650146484\n"
     ]
    }
   ],
   "source": [
    "n = int(input())\n",
    "\n",
    "start = time.time()\n",
    "print(n * (n + 1) // 2)\n",
    "end = time.time()\n",
    "print(end - start)"
   ]
  },
  {
   "cell_type": "markdown",
   "metadata": {},
   "source": [
    "## 4. Suma dígitos ##"
   ]
  },
  {
   "cell_type": "markdown",
   "metadata": {},
   "source": [
    "Lee un número entero positivo e imprime la suma de sus dígitos."
   ]
  },
  {
   "cell_type": "markdown",
   "metadata": {},
   "source": [
    "### Solución ###"
   ]
  },
  {
   "cell_type": "markdown",
   "metadata": {},
   "source": [
    "Podemos aprovechar el operador módulo para obetener el último dígito del número y el operador división entera para quitarle el último dígito al número."
   ]
  },
  {
   "cell_type": "code",
   "execution_count": 13,
   "metadata": {},
   "outputs": [
    {
     "name": "stdout",
     "output_type": "stream",
     "text": [
      "5\n",
      "14\n"
     ]
    }
   ],
   "source": [
    "print(145 % 10)\n",
    "print(145 // 10)"
   ]
  },
  {
   "cell_type": "markdown",
   "metadata": {},
   "source": [
    "Usando estos dos operadores en un bucle podemos obtener todos los dígitos de un número y por tanto también su suma."
   ]
  },
  {
   "cell_type": "code",
   "execution_count": 14,
   "metadata": {},
   "outputs": [
    {
     "name": "stdout",
     "output_type": "stream",
     "text": [
      "123435\n",
      "18\n"
     ]
    }
   ],
   "source": [
    "n = int(input())\n",
    "sum_ = 0\n",
    "while n > 0:\n",
    "    sum_ += n % 10\n",
    "    n //= 10 # recuerda que reemplaza a n = n // 10\n",
    "print(sum_)"
   ]
  },
  {
   "cell_type": "code",
   "execution_count": null,
   "metadata": {},
   "outputs": [],
   "source": []
  }
 ],
 "metadata": {
  "kernelspec": {
   "display_name": "Python 3",
   "language": "python",
   "name": "python3"
  },
  "language_info": {
   "codemirror_mode": {
    "name": "ipython",
    "version": 3
   },
   "file_extension": ".py",
   "mimetype": "text/x-python",
   "name": "python",
   "nbconvert_exporter": "python",
   "pygments_lexer": "ipython3",
   "version": "3.7.1"
  }
 },
 "nbformat": 4,
 "nbformat_minor": 2
}
