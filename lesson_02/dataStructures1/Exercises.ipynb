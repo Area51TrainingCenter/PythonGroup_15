{
 "cells": [
  {
   "cell_type": "markdown",
   "metadata": {},
   "source": [
    "# Ejercicios #"
   ]
  },
  {
   "cell_type": "markdown",
   "metadata": {},
   "source": [
    "## 1. Ordenar ##\n",
    "\n",
    "Dada una lista de números enteros, tienes la tarea de ordenarla de menor a mayor."
   ]
  },
  {
   "cell_type": "code",
   "execution_count": 2,
   "metadata": {},
   "outputs": [
    {
     "name": "stdout",
     "output_type": "stream",
     "text": [
      "4 5\n",
      "5 4\n"
     ]
    }
   ],
   "source": [
    "a = 5\n",
    "b = 4\n",
    "\n",
    "tmp = a\n",
    "a = b\n",
    "b = tmp\n",
    "\n",
    "print(a, b)\n",
    "\n",
    "a, b = b, a\n",
    "\n",
    "print(a, b)"
   ]
  },
  {
   "cell_type": "code",
   "execution_count": 4,
   "metadata": {},
   "outputs": [
    {
     "name": "stdout",
     "output_type": "stream",
     "text": [
      "7 6 8 19 53 9 10 2 3\n",
      "[2, 3, 6, 7, 8, 9, 10, 19, 53]\n"
     ]
    }
   ],
   "source": [
    "l = list(map(int, input().split()))\n",
    "\n",
    "n = len(l)\n",
    "for j in range(n):\n",
    "    ban = True\n",
    "    for i in range(1, n - j):\n",
    "        if l[i] < l[i - 1]:\n",
    "            l[i], l[i - 1] = l[i - 1], l[i]\n",
    "            ban = False\n",
    "    if ban == True:\n",
    "        break\n",
    "\n",
    "print(l)\n",
    "        "
   ]
  },
  {
   "cell_type": "markdown",
   "metadata": {},
   "source": [
    "## 2. Segundo mayor puntaje  ##\n",
    "\n",
    "Dada una lista de números enteros que representan los puntajes en un examen, debes devolver el segundo mayor puntaje, pueden haber puntajes iguales."
   ]
  },
  {
   "cell_type": "code",
   "execution_count": null,
   "metadata": {},
   "outputs": [],
   "source": [
    "l = list(map(int, input().split()))\n",
    "\n",
    "#l.sort()\n",
    "#print(l[len(l) - 2])\n",
    "\n",
    "may = may2 = l[0]\n",
    "for e in l:\n",
    "    if e > may:\n",
    "        may2 = may\n",
    "        may = e\n",
    "    elif e > may2:\n",
    "        may2 = e\n",
    "print(may2)"
   ]
  },
  {
   "cell_type": "markdown",
   "metadata": {},
   "source": [
    "## 3. Intercambia mayúsculas y minúsculas ##\n",
    "\n",
    "Lee una cadena y convierte las minúsculas en mayúsculas y viceversa. Imprime la respuesta.\n",
    "\n",
    "**Ejemplo:**\n",
    "\n",
    "> Www.Area51TrainingCenter.com → wWW.aREA51tRAININGcENTER.COM"
   ]
  },
  {
   "cell_type": "code",
   "execution_count": null,
   "metadata": {},
   "outputs": [],
   "source": [
    "s = input()\n",
    "\n",
    "s2 = ''\n",
    "l = []\n",
    "for i in s:\n",
    "    if i.islower():\n",
    "        l.append(i.upper())\n",
    "        s2 += i.upper()\n",
    "    else:\n",
    "        l.append(i.lower())\n",
    "        s2 += i.lower()\n",
    "print(s2)\n",
    "print(''.join(l))"
   ]
  },
  {
   "cell_type": "markdown",
   "metadata": {},
   "source": [
    "## 4. Ancho de Cadena ##\n",
    "\n",
    "Dada una cadena y un ancho. Tienes la tarea de convertir la cadena en un texto que tenga el ancho dado. Garantizamos que este ancho será siempre positivo y menor al tamaño de la cadena. \n",
    "\n",
    "**Ejemplo de entrada**\n",
    "\n",
    "    ABCDEFGHIJKLIMNOQRSTUVWXYZ\n",
    "\n",
    "    4\n",
    "\n",
    "**Ejemplo de salida**\n",
    "\n",
    "    ABCD\n",
    "    EFGH\n",
    "    IJKL\n",
    "    IMNO\n",
    "    QRST\n",
    "    UVWX\n",
    "    YZ"
   ]
  },
  {
   "cell_type": "code",
   "execution_count": 7,
   "metadata": {},
   "outputs": [
    {
     "name": "stdout",
     "output_type": "stream",
     "text": [
      "()\n",
      "(1, 2, 3)\n",
      "()\n",
      "(1, 2, 3)\n",
      "(1,)\n"
     ]
    },
    {
     "data": {
      "text/plain": [
       "1"
      ]
     },
     "execution_count": 7,
     "metadata": {},
     "output_type": "execute_result"
    }
   ],
   "source": [
    "# Tuplas\n",
    "t = tuple()\n",
    "print(t)\n",
    "\n",
    "t = tuple([1, 2, 3])\n",
    "print(t)\n",
    "\n",
    "t = ()\n",
    "print(t)\n",
    "\n",
    "t = (1, 2, 3)\n",
    "print(t)\n",
    "\n",
    "t = (1,)\n",
    "print(t)\n",
    "\n",
    "len(t)"
   ]
  },
  {
   "cell_type": "code",
   "execution_count": 11,
   "metadata": {},
   "outputs": [
    {
     "name": "stdout",
     "output_type": "stream",
     "text": [
      "['__add__', '__class__', '__contains__', '__delattr__', '__dir__', '__doc__', '__eq__', '__format__', '__ge__', '__getattribute__', '__getitem__', '__getnewargs__', '__gt__', '__hash__', '__init__', '__init_subclass__', '__iter__', '__le__', '__len__', '__lt__', '__mul__', '__ne__', '__new__', '__reduce__', '__reduce_ex__', '__repr__', '__rmul__', '__setattr__', '__sizeof__', '__str__', '__subclasshook__', 'count', 'index']\n",
      "1\n",
      "2\n"
     ]
    }
   ],
   "source": [
    "# Estructura de tupla \n",
    "print(dir(t))\n",
    "t = (1, 3, 4, 3)\n",
    "print(t.index(3))\n",
    "print(t.count(3))"
   ]
  },
  {
   "cell_type": "code",
   "execution_count": 13,
   "metadata": {},
   "outputs": [
    {
     "name": "stdout",
     "output_type": "stream",
     "text": [
      "4\n"
     ]
    },
    {
     "data": {
      "text/plain": [
       "(3, 4, 3)"
      ]
     },
     "execution_count": 13,
     "metadata": {},
     "output_type": "execute_result"
    }
   ],
   "source": [
    "print(t[2])\n",
    "# no se puede t[2] = 8\n",
    "t[1:]"
   ]
  },
  {
   "cell_type": "code",
   "execution_count": 14,
   "metadata": {},
   "outputs": [
    {
     "name": "stdout",
     "output_type": "stream",
     "text": [
      "(3, 5, 6, 8)\n"
     ]
    }
   ],
   "source": [
    "# ordenando tuplas\n",
    "t = (8, 6, 5, 3)\n",
    "l = list(t)\n",
    "l.sort()\n",
    "t = tuple(l)\n",
    "print(t)"
   ]
  },
  {
   "cell_type": "code",
   "execution_count": null,
   "metadata": {},
   "outputs": [],
   "source": [
    "# Sets\n",
    "\n",
    "s = set() # No válido s = {}\n",
    "print(s)\n",
    "s = {1, 2, 3}\n",
    "print(s)\n",
    "print(type(s))\n",
    "\n",
    "# No se puede print(s[1])\n",
    "# print(dir(s))\n",
    "s.add(4)\n",
    "print(s)\n",
    "s.update({8, 9})\n",
    "print(s)\n",
    "s.remove(8) # lanza excepción si elemento no existe\n",
    "print(s)\n",
    "s.discard(10) # no lanza excepción, retorna None\n",
    "print(s)\n",
    "s.pop()\n",
    "print(s)\n",
    "\n",
    "# No elementos repetidos\n",
    "\n",
    "s.update({4, 9})\n",
    "print(s)\n",
    "print(set([1, 1, 1, 1, 2, 2, 2]))\n",
    "print({2, 2, 2, 2, 2})\n"
   ]
  },
  {
   "cell_type": "code",
   "execution_count": 28,
   "metadata": {},
   "outputs": [
    {
     "name": "stdout",
     "output_type": "stream",
     "text": [
      "2\n",
      "3\n",
      "4\n",
      "9\n"
     ]
    }
   ],
   "source": [
    "for i in s:\n",
    "    print(i)"
   ]
  },
  {
   "cell_type": "code",
   "execution_count": 22,
   "metadata": {},
   "outputs": [
    {
     "name": "stdout",
     "output_type": "stream",
     "text": [
      "{}\n",
      "{}\n",
      "{1: 2, 3: 4, 5: 7, 'dos': 3}\n",
      "{'uno': 1, 'dos': 2, 'tres': 3}\n",
      "{(0,): [1, 2, 3]}\n"
     ]
    },
    {
     "ename": "TypeError",
     "evalue": "unhashable type: 'list'",
     "output_type": "error",
     "traceback": [
      "\u001b[1;31m---------------------------------------------------------------------------\u001b[0m",
      "\u001b[1;31mTypeError\u001b[0m                                 Traceback (most recent call last)",
      "\u001b[1;32m<ipython-input-22-e71abb4f6703>\u001b[0m in \u001b[0;36m<module>\u001b[1;34m\u001b[0m\n\u001b[0;32m     11\u001b[0m \u001b[0md\u001b[0m \u001b[1;33m=\u001b[0m \u001b[1;33m{\u001b[0m\u001b[1;33m(\u001b[0m\u001b[1;36m0\u001b[0m\u001b[1;33m,\u001b[0m\u001b[1;33m)\u001b[0m\u001b[1;33m:\u001b[0m \u001b[1;33m[\u001b[0m\u001b[1;36m1\u001b[0m\u001b[1;33m,\u001b[0m \u001b[1;36m2\u001b[0m\u001b[1;33m,\u001b[0m \u001b[1;36m3\u001b[0m\u001b[1;33m]\u001b[0m\u001b[1;33m}\u001b[0m\u001b[1;33m\u001b[0m\u001b[1;33m\u001b[0m\u001b[0m\n\u001b[0;32m     12\u001b[0m \u001b[0mprint\u001b[0m\u001b[1;33m(\u001b[0m\u001b[0md\u001b[0m\u001b[1;33m)\u001b[0m\u001b[1;33m\u001b[0m\u001b[1;33m\u001b[0m\u001b[0m\n\u001b[1;32m---> 13\u001b[1;33m \u001b[0md\u001b[0m \u001b[1;33m=\u001b[0m \u001b[1;33m{\u001b[0m\u001b[1;33m[\u001b[0m\u001b[1;36m0\u001b[0m\u001b[1;33m]\u001b[0m\u001b[1;33m:\u001b[0m \u001b[1;33m[\u001b[0m\u001b[1;36m1\u001b[0m\u001b[1;33m,\u001b[0m \u001b[1;36m2\u001b[0m\u001b[1;33m,\u001b[0m \u001b[1;36m3\u001b[0m\u001b[1;33m]\u001b[0m\u001b[1;33m}\u001b[0m\u001b[1;33m\u001b[0m\u001b[1;33m\u001b[0m\u001b[0m\n\u001b[0m\u001b[0;32m     14\u001b[0m \u001b[1;33m\u001b[0m\u001b[0m\n\u001b[0;32m     15\u001b[0m \u001b[1;31m# Estructura\u001b[0m\u001b[1;33m\u001b[0m\u001b[1;33m\u001b[0m\u001b[1;33m\u001b[0m\u001b[0m\n",
      "\u001b[1;31mTypeError\u001b[0m: unhashable type: 'list'"
     ]
    }
   ],
   "source": [
    "# Diccionarios\n",
    "\n",
    "d = dict()\n",
    "print(d)\n",
    "d = {}\n",
    "print(d)\n",
    "d = {1: 2, 3: 4, 5: 7, 'dos': 3}\n",
    "print(d)\n",
    "d = {'uno': 1, 'dos': 2, 'tres': 3}\n",
    "print(d)\n",
    "d = {(0,): [1, 2, 3]}\n",
    "print(d)\n",
    "d = {[0]: [1, 2, 3]}\n",
    "\n",
    "# Estructura\n",
    "\n",
    "print(dir(d))\n",
    "print(d.keys())\n",
    "print(d.values())\n",
    "print(d.items())\n",
    "d.pop('dos') # del d['dos']\n",
    "print(d)\n",
    "d.popitem()\n",
    "print(d)"
   ]
  },
  {
   "cell_type": "code",
   "execution_count": 21,
   "metadata": {},
   "outputs": [
    {
     "name": "stdout",
     "output_type": "stream",
     "text": [
      "{1: 'uno', 2: 'dos', 3: 'tres'}\n",
      "tres\n",
      "None\n",
      "{1: 'uno', 2: 'dos', 3: 5}\n"
     ]
    }
   ],
   "source": [
    "# mutabilidad\n",
    "\n",
    "d = dict([(1, 'uno'), (2, 'dos'), (3, 'tres')])\n",
    "print(d)\n",
    "\n",
    "print(d[3])\n",
    "#print(d[4])\n",
    "print(d.get(4)) # en lugar de d[4] que lanza excepción\n",
    "\n",
    "d[3] = 4\n",
    "d[3] += 1\n",
    "print(d)"
   ]
  },
  {
   "cell_type": "code",
   "execution_count": 19,
   "metadata": {},
   "outputs": [
    {
     "name": "stdout",
     "output_type": "stream",
     "text": [
      "1 2 3 \n",
      "uno dos 5 \n",
      "1 -> uno\n",
      "2 -> dos\n",
      "3 -> 5\n"
     ]
    }
   ],
   "source": [
    "# iterando diccionarios\n",
    "\n",
    "for i in d:\n",
    "    print(i, end=' ')\n",
    "print()\n",
    "for i in d.values():\n",
    "    print(i, end=' ')\n",
    "print()\n",
    "for i, e in d.items():\n",
    "    print(i, '->', e)"
   ]
  }
 ],
 "metadata": {
  "kernelspec": {
   "display_name": "Python 3",
   "language": "python",
   "name": "python3"
  },
  "language_info": {
   "codemirror_mode": {
    "name": "ipython",
    "version": 3
   },
   "file_extension": ".py",
   "mimetype": "text/x-python",
   "name": "python",
   "nbconvert_exporter": "python",
   "pygments_lexer": "ipython3",
   "version": "3.7.1"
  }
 },
 "nbformat": 4,
 "nbformat_minor": 2
}
